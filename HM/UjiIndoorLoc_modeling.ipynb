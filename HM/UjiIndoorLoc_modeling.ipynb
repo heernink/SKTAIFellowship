{
  "nbformat": 4,
  "nbformat_minor": 0,
  "metadata": {
    "colab": {
      "provenance": []
    },
    "kernelspec": {
      "name": "python3",
      "display_name": "Python 3"
    },
    "language_info": {
      "name": "python"
    }
  },
  "cells": [
    {
      "cell_type": "code",
      "execution_count": 4,
      "metadata": {
        "id": "tLbarnpcqgCN"
      },
      "outputs": [],
      "source": [
        "# Data reading and processing\n",
        "import re\n",
        "import pandas as pd\n",
        "import numpy as np\n",
        "import warnings\n",
        "import time\n",
        "from scipy.stats import randint as sp_randint, uniform as sp_uniform\n",
        "from datetime import datetime\n",
        "\n",
        "import os\n",
        "from os import path\n",
        "\n",
        "# Visualisation\n",
        "from matplotlib import pyplot as plt\n",
        "#from pandas_ml import ConfusionMatrix\n",
        "\n",
        "# Modelling\n",
        "from sklearn.linear_model import LogisticRegression, LinearRegression, Lasso, Ridge, ElasticNet\n",
        "from sklearn.tree import DecisionTreeClassifier\n",
        "from sklearn.ensemble import RandomForestClassifier, RandomForestRegressor, GradientBoostingRegressor\n",
        "from sklearn.neighbors import KNeighborsClassifier, KNeighborsRegressor\n",
        "from sklearn.discriminant_analysis import LinearDiscriminantAnalysis\n",
        "from sklearn.neural_network import MLPClassifier\n",
        "from sklearn.multioutput import MultiOutputRegressor\n",
        "from xgboost import XGBClassifier, XGBRegressor\n",
        "#from catboost import CatBoostClassifier, CatBoostRegressor\n",
        "\n",
        "from sklearn.model_selection import KFold, cross_val_score, RandomizedSearchCV, GridSearchCV\n",
        "from sklearn.metrics import confusion_matrix, accuracy_score, r2_score, mean_squared_error\n",
        "\n",
        "# Suppress warnings\n",
        "warnings.filterwarnings(\"ignore\")"
      ]
    },
    {
      "cell_type": "code",
      "source": [
        "# Setting current directory as same directory where code is stored\n",
        "try:\n",
        "    CUR_DIR = '/content/drive/MyDrive'\n",
        "except NameError:\n",
        "    CUR_DIR = os.getcwd()"
      ],
      "metadata": {
        "id": "YTPbzsrbrVs7"
      },
      "execution_count": 5,
      "outputs": []
    },
    {
      "cell_type": "code",
      "source": [
        "# Additional functions\n",
        "## Print confusion matrix\n",
        "def print_cm(cm, labels, hide_zeroes=False, hide_diagonal=False, hide_threshold=None):\n",
        "    columnwidth = max([len(x) for x in labels] + [5])  # 5 is value length\n",
        "    empty_cell = \" \" * columnwidth\n",
        "    # Print header\n",
        "    print(\"    \" + empty_cell, end=\" \")\n",
        "    for label in labels:\n",
        "        print(\"%{0}s\".format(columnwidth) % label, end=\" \")\n",
        "    print()\n",
        "    # Print rows\n",
        "    for i, label1 in enumerate(labels):\n",
        "        print(\"    %{0}s\".format(columnwidth) % label1, end=\" \")\n",
        "        for j in range(len(labels)):\n",
        "            cell = \"%{0}.i\".format(columnwidth) % cm[i, j]\n",
        "            if hide_zeroes:\n",
        "                cell = cell if float(cm[i, j]) != 0 else empty_cell\n",
        "            if hide_diagonal:\n",
        "                cell = cell if i != j else empty_cell\n",
        "            if hide_threshold:\n",
        "                cell = cell if cm[i, j] > hide_threshold else empty_cell\n",
        "            print(cell, end=\" \")\n",
        "        print()\n",
        "\n",
        "        \n",
        "def create_clustered_bar(matrix, axis):\n",
        "    bar_renderers = []\n",
        "    x = np.arange(matrix.shape[0])\n",
        "    dx = (np.arange(matrix.shape[1])-matrix.shape[1]/2.)/(matrix.shape[1]+2.)\n",
        "    d = 1./(matrix.shape[1]+2.)\n",
        "\n",
        "    for i in range(matrix.shape[1]):\n",
        "        r = axis.bar(x+dx[i],matrix[:,i], width=d)\n",
        "        bar_renderers.append(r)\n",
        "    return bar_renderers\n",
        " \n",
        "    \n",
        "## Calculating distance        \n",
        "def pythagoras(long1, long2, lat1, lat2):\n",
        "    import math\n",
        "    a = abs(long1-long2)**2\n",
        "    b = abs(lat1-lat2)**2\n",
        "    return math.sqrt(a+b)"
      ],
      "metadata": {
        "id": "lGaE2DWRvATp"
      },
      "execution_count": 6,
      "outputs": []
    },
    {
      "cell_type": "code",
      "source": [
        "# # Import data files\n",
        "#fp = os.path.join(CUR_DIR,\"input\")\n",
        "\n",
        "train = pd.read_csv(path.join(CUR_DIR, 'TrainingData.csv'),index_col=None)\n",
        "test = pd.read_csv(path.join(CUR_DIR, 'ValidationData.csv'),index_col=None)\n",
        "print('Training dataset (length, width) = {}'.format(str(train.shape)))\n",
        "print('Validation dataset (length, width) = {}'.format(str(test.shape)))"
      ],
      "metadata": {
        "colab": {
          "base_uri": "https://localhost:8080/"
        },
        "id": "G1Wt6T5nvEY3",
        "outputId": "cf13c13f-ea43-4d46-861c-7da9eaca4c46"
      },
      "execution_count": 10,
      "outputs": [
        {
          "output_type": "stream",
          "name": "stdout",
          "text": [
            "Training dataset (length, width) = (19937, 529)\n",
            "Validation dataset (length, width) = (1111, 529)\n"
          ]
        }
      ]
    },
    {
      "cell_type": "code",
      "source": [
        "# removing columns\n",
        "sub_train = train[[x for x in train.columns if 'WAP' not in x]]\n",
        "sub_train['max_signal'] = train.loc[:,[x for x in train.columns if 'WAP' in x]].replace(100,np.NaN).max(axis=1)\n",
        "nan_sub = sub_train.loc[np.isnan(sub_train['max_signal']),]\n",
        "nan_rows = sub_train['max_signal'].isnull().sum()\n",
        "nan_rows_index = nan_sub.index.tolist()\n",
        "train = train.iloc[[x for x in train.index if x not in nan_rows_index]]\n",
        "wap_max = train[[x for x in train.columns if 'WAP' in x]].replace(100,np.nan).max(axis=0).reset_index()\n",
        "wap_max = wap_max.rename(columns={'index':'wap_name', 0: 'max_signal'}).fillna(10)\n",
        "cols_torm = wap_max.loc[wap_max['max_signal']==10,'wap_name'].tolist()\n",
        "train = train.drop(train[cols_torm],axis=1)\n",
        "test = test.drop(test[cols_torm],axis=1)\n",
        "\n",
        "print('Number of WAP variables removed: {}'.format(len(cols_torm)))\n",
        "print('Remaining WAP variables: {}'.format(len([x for x in train.columns if 'WAP' in x])))"
      ],
      "metadata": {
        "id": "8wn-3Tqkqrkf",
        "colab": {
          "base_uri": "https://localhost:8080/"
        },
        "outputId": "e711aa08-4385-4160-91f8-346bb12d4bde"
      },
      "execution_count": 11,
      "outputs": [
        {
          "output_type": "stream",
          "name": "stdout",
          "text": [
            "Number of WAP variables removed: 55\n",
            "Remaining WAP variables: 465\n"
          ]
        }
      ]
    },
    {
      "cell_type": "markdown",
      "source": [
        "## **| Predictive Modelling**\n",
        "\n",
        "- Classification Algorithms\n",
        "  - Input variables: WAP001 to WAP520\n",
        "  - Excluding the 55 WAP variables with no RSSI readings\n",
        "\n",
        "- Target variables: Building and Floor\n",
        "  - Total classes: 13 (cross join of all available buildings and floors)"
      ],
      "metadata": {
        "id": "8vlf27GkrwWg"
      }
    },
    {
      "cell_type": "code",
      "source": [
        "# Creates single variable combining both targets\n",
        "train['target'] = 'B' + train['BUILDINGID'].astype(str) + ' x F' + train['FLOOR'].astype(str)\n",
        "test['target'] = 'B' + test['BUILDINGID'].astype(str) + ' x F' + test['FLOOR'].astype(str)"
      ],
      "metadata": {
        "id": "nVRaXNQrxAi-"
      },
      "execution_count": 12,
      "outputs": []
    },
    {
      "cell_type": "code",
      "source": [
        "class_models = []\n",
        "class_models.append(('Linear Discriminant Analysis', LinearDiscriminantAnalysis()))\n",
        "class_models.append(('Decision Tree', DecisionTreeClassifier(random_state=20)))\n",
        "class_models.append(('Random Forest', RandomForestClassifier(random_state=20)))\n",
        "class_models.append(('Neural Network', MLPClassifier(random_state=20)))\n",
        "#class_models.append(('XGBoost', XGBClassifier(random_state=20)))\n",
        "#class_models.append(('CatBoost', CatBoostClassifier(silent=True,iterations=200,random_seed=20)))\n",
        "\n",
        "# evaluate each model in turn\n",
        "class_results = []\n",
        "class_names = []\n",
        "for name, model in class_models:\n",
        "    st = time.time()\n",
        "    kfold = KFold(n_splits=5)\n",
        "    cv_results = cross_val_score(model, train[[x for x in train.columns if 'WAP' in x]], train['target'].ravel(), cv=kfold, scoring='accuracy',n_jobs=-1)\n",
        "    class_results.append(cv_results)\n",
        "    class_names.append(name)\n",
        "    print(\"{}: {:.4f} ({:.4f})\".format(name, cv_results.mean(), cv_results.std()))\n",
        "    print(\"\\tTime elapsed: {:.2f} seconds\".format(time.time()-st))"
      ],
      "metadata": {
        "colab": {
          "base_uri": "https://localhost:8080/"
        },
        "id": "lNCW6Yx4xDbn",
        "outputId": "bf113609-9be3-4556-e785-410b3190c2c4"
      },
      "execution_count": 15,
      "outputs": [
        {
          "output_type": "stream",
          "name": "stdout",
          "text": [
            "Linear Discriminant Analysis: 0.6927 (0.1543)\n",
            "\tTime elapsed: 15.77 seconds\n",
            "Decision Tree: 0.6480 (0.1650)\n",
            "\tTime elapsed: 2.74 seconds\n",
            "Random Forest: 0.7660 (0.2015)\n",
            "\tTime elapsed: 18.25 seconds\n",
            "Neural Network: 0.7348 (0.1194)\n",
            "\tTime elapsed: 94.44 seconds\n"
          ]
        }
      ]
    },
    {
      "cell_type": "code",
      "source": [
        "# Compare Algorithms\n",
        "fig = plt.figure(figsize=(15,5))\n",
        "fig.suptitle('Algorithm Comparison',fontsize=20)\n",
        "ax = fig.add_subplot(111)\n",
        "plt.boxplot(class_results)\n",
        "ax.set_xticklabels(class_names,rotation=40)\n",
        "plt.show()"
      ],
      "metadata": {
        "colab": {
          "base_uri": "https://localhost:8080/",
          "height": 620
        },
        "id": "JNqYrjFJxScB",
        "outputId": "431875a5-876b-4993-9b59-917229bb6e5f"
      },
      "execution_count": 16,
      "outputs": [
        {
          "output_type": "display_data",
          "data": {
            "text/plain": [
              "<Figure size 1500x500 with 1 Axes>"
            ],
            "image/png": "[encoded data removed]"
          },
          "metadata": {}
        }
      ]
    },
    {
      "cell_type": "code",
      "source": [
        "st = time.time()\n",
        "original_class_params = {\n",
        "  #\"learning_rate\":0.1,\n",
        "  \"n_estimators\":100,\n",
        "  \"max_depth\":5,\n",
        "  #\"min_child_weight\":1,\n",
        "  #\"gamma\":0,\n",
        "  #\"alpha\":0,\n",
        "  #\"lambda\":1,\n",
        "}\n",
        "class_xg = RandomForestClassifier(**original_class_params,n_jobs=-1)\n",
        "class_xg.fit(train[[x for x in train.columns if 'WAP' in x]], train['target'].ravel())\n",
        "class_preds = class_xg.predict(test[[x for x in train.columns if 'WAP' in x]])\n",
        "print(\"Accuracy: {:.2f}%\".format(accuracy_score(test['target'].ravel(), class_preds)*100))\n",
        "print(\"\\tTime elapsed: {:.2f} seconds\".format(time.time()-st))"
      ],
      "metadata": {
        "colab": {
          "base_uri": "https://localhost:8080/"
        },
        "id": "mXbwhdg2xelV",
        "outputId": "f574a11a-1220-4853-9659-dfcac9e4fe12"
      },
      "execution_count": 22,
      "outputs": [
        {
          "output_type": "stream",
          "name": "stdout",
          "text": [
            "Accuracy: 64.09%\n",
            "\tTime elapsed: 2.76 seconds\n"
          ]
        }
      ]
    },
    {
      "cell_type": "code",
      "source": [],
      "metadata": {
        "id": "MoJmYHz-xfTO"
      },
      "execution_count": null,
      "outputs": []
    },
    {
      "cell_type": "code",
      "source": [],
      "metadata": {
        "id": "tUfJa0pNrmX3"
      },
      "execution_count": null,
      "outputs": []
    }
  ]
}